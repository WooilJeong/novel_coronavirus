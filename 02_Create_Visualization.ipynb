{
 "cells": [
  {
   "cell_type": "markdown",
   "metadata": {},
   "source": [
    "# 2020-nCoV Global Cases by Wooil Jeong\n",
    "\n",
    "- **Wooil Jeong**  \n",
    "[Dashboard by WooilJeong](https://plot.ly/dashboard/coronavirus:34/present#/)  \n",
    "[Blog](https://wooiljeong.github.io/etc/corona_dash/)  \n",
    "[Github Repository](https://github.com/WooilJeong/novel_coronavirus)  \n",
    "\n",
    "\n",
    "- **Novel Coronavirus (2019-nCoV) Cases, provided by JHU CSSE**  \n",
    "[Dashboard by JHU CSSE](https://gisanddata.maps.arcgis.com/apps/opsdashboard/index.html#/bda7594740fd40299423467b48e9ecf6)  \n",
    "[Old Data Sheets](https://docs.google.com/spreadsheets/d/1yZv9w9zRKwrGTaR-YzmAqMefw4wMlaXocejdxZaTs6w/htmlview?usp=sharing&sle=true#)  \n",
    "[New Google Sheet Link (support comments)](https://docs.google.com/spreadsheets/d/1wQVypefm946ch4XDp37uZ-wartW4V7ILdg-qYiDXUHM/edit?usp=sharing)  \n",
    "[Time series google sheet](https://docs.google.com/spreadsheets/d/1UF2pSkFTURko2OvfHWWlFpDFAr1UxCBA4JLwlSP6KFo/edit?usp=sharing)  \n",
    "\n",
    "\n",
    "- **Contact**  \n",
    "email : wooil@kakao.com  "
   ]
  },
  {
   "cell_type": "markdown",
   "metadata": {},
   "source": [
    "## Create Visualization"
   ]
  },
  {
   "cell_type": "markdown",
   "metadata": {},
   "source": [
    "## Libraries"
   ]
  },
  {
   "cell_type": "code",
   "execution_count": null,
   "metadata": {},
   "outputs": [],
   "source": [
    "import os\n",
    "import glob\n",
    "import pandas as pd\n",
    "import numpy as np\n",
    "import matplotlib.pyplot as plt\n",
    "import chart_studio\n",
    "plotly_key=open(\".plotly_key\").read()\n",
    "chart_studio.tools.set_credentials_file(username='coronavirus', api_key=plotly_key)\n",
    "import chart_studio.plotly as py\n",
    "import plotly.express as px"
   ]
  },
  {
   "cell_type": "markdown",
   "metadata": {},
   "source": [
    "## Load Dataset"
   ]
  },
  {
   "cell_type": "markdown",
   "metadata": {},
   "source": [
    "### 프로젝트 디렉토리로 설정"
   ]
  },
  {
   "cell_type": "code",
   "execution_count": null,
   "metadata": {},
   "outputs": [],
   "source": [
    "# os.chdir('/Users/wooil/github/novel_coronavirus/')\n",
    "os.getcwd()"
   ]
  },
  {
   "cell_type": "markdown",
   "metadata": {},
   "source": [
    "### 데이터가 저장된 디렉토리 내 파일 목록 조회"
   ]
  },
  {
   "cell_type": "code",
   "execution_count": null,
   "metadata": {},
   "outputs": [],
   "source": [
    "file_list = glob.glob(\"Data/*\")\n",
    "file_list = sorted(file_list, reverse=True)\n",
    "file_list"
   ]
  },
  {
   "cell_type": "markdown",
   "metadata": {},
   "source": [
    "### 최신 데이터 불러오기"
   ]
  },
  {
   "cell_type": "code",
   "execution_count": null,
   "metadata": {
    "scrolled": true
   },
   "outputs": [],
   "source": [
    "try:\n",
    "    df = pd.read_csv(file_list[0])\n",
    "except:\n",
    "    df = pd.read_csv(file_list[0].replace('\\\\','/')+'.csv')"
   ]
  },
  {
   "cell_type": "markdown",
   "metadata": {},
   "source": [
    "## 전 세계 통합 데이터"
   ]
  },
  {
   "cell_type": "code",
   "execution_count": null,
   "metadata": {},
   "outputs": [],
   "source": [
    "def agg(df):\n",
    "    '''\n",
    "    국가 및 지역 별 데이터 집계 함수\n",
    "    '''\n",
    "\n",
    "    df_region = df.groupby('Last Update').agg(\n",
    "        {'Confirmed':['sum'], 'Death':['sum'],'Recovered':['sum']}).reset_index()\n",
    "    \n",
    "    df_region.index = range(len(df_region))\n",
    "    df_region.columns=['Last Update', 'Confirmed', 'Death', 'Recovered']\n",
    "    \n",
    "    # Feature Engineering\n",
    "    df_region['D/C'] = (df_region['Death']/df_region['Confirmed'])*100\n",
    "    df_region['R/C'] = (df_region['Recovered']/df_region['Confirmed'])*100\n",
    "    \n",
    "    return df_region"
   ]
  },
  {
   "cell_type": "code",
   "execution_count": null,
   "metadata": {
    "scrolled": true
   },
   "outputs": [],
   "source": [
    "df_all = agg(df)\n",
    "df_all.tail()"
   ]
  },
  {
   "cell_type": "markdown",
   "metadata": {},
   "source": [
    "## Map"
   ]
  },
  {
   "cell_type": "code",
   "execution_count": null,
   "metadata": {},
   "outputs": [],
   "source": [
    "df.head()"
   ]
  },
  {
   "cell_type": "code",
   "execution_count": null,
   "metadata": {},
   "outputs": [],
   "source": [
    "# px.set_mapbox_access_token(open(\".mapbox_token\").read())\n",
    "fig = px.scatter_mapbox(df, \n",
    "                        title='World New Coronavirus Chart',\n",
    "                        lat=\"Lat\", \n",
    "                        lon=\"Long\", \n",
    "                        center={'lat':31, 'lon':112},\n",
    "                        color=\"Country/Region\", \n",
    "                        size=\"Confirmed\",\n",
    "                        hover_name=\"Province/State\",\n",
    "                        animation_frame= \"Last Update\",\n",
    "                        animation_group =\"Province/State\",\n",
    "                        color_continuous_scale = px.colors.cyclical.IceFire, \n",
    "                        template='plotly_dark', \n",
    "                        size_max=75, \n",
    "                        zoom=4)\n",
    "\n",
    "fig.update_layout(showlegend=False)\n",
    "py.iplot(fig, filename='corona_scatter')"
   ]
  },
  {
   "cell_type": "markdown",
   "metadata": {},
   "source": [
    "## 전 세계 통합 확진자, 사망자, 회복자 추이"
   ]
  },
  {
   "cell_type": "code",
   "execution_count": null,
   "metadata": {},
   "outputs": [],
   "source": [
    "data = df_all.copy()\n",
    "data_melt = data.melt(id_vars='Last Update', value_vars=['Death', 'Recovered'])\n",
    "\n",
    "fig = px.line(data, x=\"Last Update\", y=\"Confirmed\", template='plotly_dark', title='Total Confirmed', text='Confirmed')\n",
    "fig2= px.line(data_melt, x=\"Last Update\", y=\"value\", color='variable', template='plotly_dark', title='Total Death and Recovered', text='value')"
   ]
  },
  {
   "cell_type": "code",
   "execution_count": null,
   "metadata": {},
   "outputs": [],
   "source": [
    "fig.update_traces(textposition='top center')\n",
    "fig.update_layout(legend_orientation=\"h\")\n",
    "\n",
    "py.iplot(fig, filename='corona_confirmed')"
   ]
  },
  {
   "cell_type": "code",
   "execution_count": null,
   "metadata": {},
   "outputs": [],
   "source": [
    "fig2.update_traces(textposition='top center')\n",
    "fig2.update_layout(legend_orientation=\"h\")\n",
    "\n",
    "py.iplot(fig2, filename='corona_death_recovered')"
   ]
  },
  {
   "cell_type": "markdown",
   "metadata": {},
   "source": [
    "## 국가 및 지역 별 데이터프레임 생성"
   ]
  },
  {
   "cell_type": "markdown",
   "metadata": {},
   "source": [
    "### 리스트 생성"
   ]
  },
  {
   "cell_type": "code",
   "execution_count": null,
   "metadata": {},
   "outputs": [],
   "source": [
    "# 모든 국가 리스트\n",
    "country_list = list(set(df['Country/Region']))\n",
    "\n",
    "# 제외할 국가 리스트(제외 국가는 세부 지역 별 리스트 생성하여 분석)\n",
    "except_list = ['Mainland China', 'US', 'Canada', 'Australia']\n",
    "\n",
    "# 세계 국가 리스트 재정의(일부 국가 제외)\n",
    "world_list = country_list.copy()\n",
    "for i in except_list:\n",
    "    world_list.remove(i)\n",
    "\n",
    "# 일부 국가(세부 지역 별 리스트 생성)\n",
    "## 중국 지역 리스트\n",
    "china_list = list(set(df[df['Country/Region']=='Mainland China']['Province/State']))\n",
    "### 후베이 제외 중국 지역 리스트\n",
    "china_list2 = china_list.copy()\n",
    "china_list2.remove('Hubei')\n",
    "\n",
    "## 미국 지역 리스트\n",
    "us_list = list(set(df[df['Country/Region']=='US']['Province/State']))\n",
    "\n",
    "## 캐나다 지역 리스트\n",
    "canada_list = list(set(df[df['Country/Region']=='Canada']['Province/State']))\n",
    "\n",
    "## 호주 지역 리스트\n",
    "australia_list = list(set(df[df['Country/Region']=='Australia']['Province/State']))"
   ]
  },
  {
   "cell_type": "markdown",
   "metadata": {},
   "source": [
    "### 데이터프레임 생성"
   ]
  },
  {
   "cell_type": "code",
   "execution_count": null,
   "metadata": {
    "scrolled": true
   },
   "outputs": [],
   "source": [
    "for i in country_list:\n",
    "    globals()[i.replace(' ','_')] = df[df['Country/Region']==i]\n",
    "    globals()[i.replace(' ','_')] = globals()[i.replace(' ','_')].sort_values('Last Update', ascending=True)\n",
    "    globals()[i.replace(' ','_')].index = range(len(globals()[i.replace(' ','_')]))    \n",
    "    print(i.replace(' ','_'))\n",
    "     \n",
    "for i in china_list:\n",
    "    globals()[i.replace(' ','_')] = Mainland_China[Mainland_China['Province/State']==i]\n",
    "    globals()[i.replace(' ','_')] = globals()[i.replace(' ','_')].sort_values('Last Update', ascending=True)\n",
    "    globals()[i.replace(' ','_')].index = range(len(globals()[i.replace(' ','_')]))\n",
    "    \n",
    "for i in us_list:\n",
    "    globals()[i.replace(' ','_')] = US[US['Province/State']==i]\n",
    "    globals()[i.replace(' ','_')] = globals()[i.replace(' ','_')].sort_values('Last Update', ascending=True)\n",
    "    globals()[i.replace(' ','_')].index = range(len(globals()[i.replace(' ','_')]))    \n",
    "    print(i.replace(' ','_'))\n",
    "    \n",
    "for i in australia_list:\n",
    "    globals()[i.replace(' ','_')] = Australia[Australia['Province/State']==i]\n",
    "    globals()[i.replace(' ','_')] = globals()[i.replace(' ','_')].sort_values('Last Update', ascending=True)\n",
    "    globals()[i.replace(' ','_')].index = range(len(globals()[i.replace(' ','_')]))    \n",
    "    print(i.replace(' ','_'))\n",
    "    \n",
    "for i in canada_list:\n",
    "    globals()[i.replace(' ','_')] = Canada[Canada['Province/State']==i]\n",
    "    globals()[i.replace(' ','_')] = globals()[i.replace(' ','_')].sort_values('Last Update', ascending=True)\n",
    "    globals()[i.replace(' ','_')].index = range(len(globals()[i.replace(' ','_')]))    \n",
    "    print(i.replace(' ','_'))"
   ]
  },
  {
   "cell_type": "code",
   "execution_count": null,
   "metadata": {},
   "outputs": [],
   "source": [
    "x_max = int(np.max(Mainland_China['Recovered']) * 1.2)\n",
    "y_max = int(np.max(Mainland_China['Death']) * 1.2)\n",
    "\n",
    "fig = px.scatter(Mainland_China, \n",
    "               x=\"Recovered\", \n",
    "               y=\"Death\",\n",
    "               color='Province/State', \n",
    "               title='Chinese New Coronavirus Chart',\n",
    "               template='plotly_dark', \n",
    "               log_x= False,                \n",
    "               animation_frame= \"Last Update\",\n",
    "               animation_group =\"Province/State\",\n",
    "               hover_name='Province/State', \n",
    "               range_x = [-50,x_max], \n",
    "               range_y = [-50,y_max],\n",
    "               size='Confirmed',\n",
    "               size_max=50,\n",
    "               labels = dict(Death='Death',\n",
    "                             Recovered = 'Recovered'))\n",
    "\n",
    "fig.update_layout(showlegend=False)\n",
    "py.iplot(fig, filename='corona')"
   ]
  },
  {
   "cell_type": "markdown",
   "metadata": {},
   "source": [
    "## 전 세계 비교 그래프"
   ]
  },
  {
   "cell_type": "code",
   "execution_count": null,
   "metadata": {},
   "outputs": [],
   "source": [
    "time_list = list(set(df['Last Update']))\n",
    "time_list = pd.DataFrame(time_list, columns=['Last Update']).sort_values('Last Update')\n",
    "time_list.index = range(len(time_list))\n",
    "\n",
    "total_list=world_list+china_list+us_list+australia_list+canada_list\n",
    "\n",
    "for i in total_list:\n",
    "    i=i.replace(' ','_')\n",
    "    time_list=pd.merge(time_list, globals()[i][['Last Update', 'Confirmed']], how='left', on='Last Update')\n",
    "time_list.columns=['Last Update']+total_list\n",
    "time_list=time_list.fillna(0)\n",
    "\n",
    "df_world = time_list[['Last Update']+world_list]\n",
    "df_china = time_list[['Last Update']+china_list]\n",
    "df_china2 = time_list[['Last Update']+china_list2]\n",
    "df_us = time_list[['Last Update']+us_list]\n",
    "df_australia = time_list[['Last Update']+australia_list]\n",
    "df_canada = time_list[['Last Update']+canada_list]"
   ]
  },
  {
   "cell_type": "markdown",
   "metadata": {},
   "source": [
    "## 전 세계"
   ]
  },
  {
   "cell_type": "code",
   "execution_count": null,
   "metadata": {
    "scrolled": false
   },
   "outputs": [],
   "source": [
    "data = df_world.copy()\n",
    "data_melt=data.melt(id_vars='Last Update', value_vars=world_list)\n",
    "fig=px.line(data_melt, \n",
    "            x='Last Update', \n",
    "            y='value', \n",
    "            color='variable', \n",
    "            title='Number of virus confirmed by country',\n",
    "            template='plotly_dark')\n",
    "\n",
    "fig.update_layout(showlegend=False)\n",
    "py.iplot(fig, filename='corona_world')"
   ]
  },
  {
   "cell_type": "markdown",
   "metadata": {},
   "source": [
    "## 중국"
   ]
  },
  {
   "cell_type": "code",
   "execution_count": null,
   "metadata": {},
   "outputs": [],
   "source": [
    "data = df_china.copy()\n",
    "data_melt=data.melt(id_vars='Last Update', value_vars=china_list)\n",
    "fig=px.line(data_melt, \n",
    "            x='Last Update', \n",
    "            y='value', \n",
    "            color='variable', \n",
    "            title='Number of virus confirmed (China)',\n",
    "            template='plotly_dark')\n",
    "\n",
    "fig.update_layout(showlegend=False)\n",
    "py.iplot(fig, filename='corona_china')"
   ]
  },
  {
   "cell_type": "markdown",
   "metadata": {},
   "source": [
    "## 중국(후베이 제외)"
   ]
  },
  {
   "cell_type": "code",
   "execution_count": null,
   "metadata": {},
   "outputs": [],
   "source": [
    "data = df_china2.copy()\n",
    "data_melt=data.melt(id_vars='Last Update', value_vars=china_list2)\n",
    "fig=px.line(data_melt, \n",
    "            x='Last Update', \n",
    "            y='value', \n",
    "            color='variable', \n",
    "            title='Number of virus confirmed (China without Hubei)',\n",
    "            template='plotly_dark'\n",
    "           )\n",
    "fig.update_layout(showlegend=False)\n",
    "py.iplot(fig, filename='corona_china_without_hubei')"
   ]
  },
  {
   "cell_type": "markdown",
   "metadata": {},
   "source": [
    "## 미국"
   ]
  },
  {
   "cell_type": "code",
   "execution_count": null,
   "metadata": {},
   "outputs": [],
   "source": [
    "data = df_us.copy()\n",
    "data_melt=data.melt(id_vars='Last Update', value_vars=us_list)\n",
    "fig=px.line(data_melt, \n",
    "            x='Last Update', \n",
    "            y='value', \n",
    "            color='variable', \n",
    "            title='Number of virus confirmed (US)',\n",
    "            template='plotly_dark'\n",
    "           )\n",
    "fig.update_layout(showlegend=False)\n",
    "py.iplot(fig, filename='corona_us')"
   ]
  },
  {
   "cell_type": "markdown",
   "metadata": {},
   "source": [
    "## 호주"
   ]
  },
  {
   "cell_type": "code",
   "execution_count": null,
   "metadata": {},
   "outputs": [],
   "source": [
    "data = df_australia.copy()\n",
    "data_melt=data.melt(id_vars='Last Update', value_vars=australia_list)\n",
    "fig=px.line(data_melt, \n",
    "            x='Last Update', \n",
    "            y='value', \n",
    "            color='variable', \n",
    "            title='Number of virus confirmed (Australia)',\n",
    "            template='plotly_dark'\n",
    "           )\n",
    "fig.update_layout(showlegend=False)\n",
    "py.iplot(fig, filename='corona_australia')"
   ]
  },
  {
   "cell_type": "markdown",
   "metadata": {},
   "source": [
    "## 캐나다"
   ]
  },
  {
   "cell_type": "code",
   "execution_count": null,
   "metadata": {},
   "outputs": [],
   "source": [
    "data = df_canada.copy()\n",
    "data_melt=data.melt(id_vars='Last Update', value_vars=canada_list)\n",
    "fig=px.line(data_melt, \n",
    "            x='Last Update', \n",
    "            y='value', \n",
    "            color='variable', \n",
    "            title='Number of virus confirmed (Canada)',\n",
    "            template='plotly_dark'\n",
    "           )\n",
    "fig.update_layout(showlegend=False)\n",
    "py.iplot(fig, filename='corona_canada')"
   ]
  },
  {
   "cell_type": "markdown",
   "metadata": {},
   "source": [
    "## 개별 국가 시각화"
   ]
  },
  {
   "cell_type": "markdown",
   "metadata": {},
   "source": [
    "## World"
   ]
  },
  {
   "cell_type": "code",
   "execution_count": null,
   "metadata": {
    "scrolled": true
   },
   "outputs": [],
   "source": [
    "# for i in world_list:\n",
    "#     print(i)\n",
    "#     data = globals()[i.replace(' ','_')].copy()\n",
    "#     data_melt = data.melt(id_vars='Last Update', value_vars=['Death', 'Recovered'])\n",
    "#     data_melt2 = data.melt(id_vars='Last Update', value_vars=['D/C', 'R/C'])\n",
    "    \n",
    "#     fig = px.line(data, x=\"Last Update\", y=\"Confirmed\", title='Confirmed')\n",
    "#     fig2= px.line(data_melt, x=\"Last Update\", y=\"value\", color='variable',title='Death and Recovered')\n",
    "#     fig3= px.line(data_melt2, x=\"Last Update\", y=\"value\", color='variable',title='D/C and R/C')\n",
    "\n",
    "#     fig.show()\n",
    "#     fig2.show()\n",
    "#     fig3.show()"
   ]
  },
  {
   "cell_type": "markdown",
   "metadata": {},
   "source": [
    "## Mainland China"
   ]
  },
  {
   "cell_type": "code",
   "execution_count": null,
   "metadata": {},
   "outputs": [],
   "source": [
    "# for i in china_list:\n",
    "#     print(i)\n",
    "#     data = globals()[i.replace(' ','_')].copy()\n",
    "#     data_melt = data.melt(id_vars='Last Update', value_vars=['Death', 'Recovered'])\n",
    "#     data_melt2 = data.melt(id_vars='Last Update', value_vars=['D/C', 'R/C'])\n",
    "    \n",
    "#     fig = px.line(data, x=\"Last Update\", y=\"Confirmed\", title='Confirmed')\n",
    "#     fig2= px.line(data_melt, x=\"Last Update\", y=\"value\", color='variable',title='Death and Recovered')\n",
    "#     fig3= px.line(data_melt2, x=\"Last Update\", y=\"value\", color='variable',title='D/C and R/C')\n",
    "\n",
    "#     fig.show()\n",
    "#     fig2.show()\n",
    "#     fig3.show()"
   ]
  },
  {
   "cell_type": "markdown",
   "metadata": {},
   "source": [
    "## US"
   ]
  },
  {
   "cell_type": "code",
   "execution_count": null,
   "metadata": {},
   "outputs": [],
   "source": [
    "# for i in us_list:\n",
    "#     print(i)\n",
    "#     data = globals()[i.replace(' ','_')].copy()\n",
    "#     data_melt = data.melt(id_vars='Last Update', value_vars=['Death', 'Recovered'])\n",
    "#     data_melt2 = data.melt(id_vars='Last Update', value_vars=['D/C', 'R/C'])\n",
    "    \n",
    "#     fig = px.line(data, x=\"Last Update\", y=\"Confirmed\", title='Confirmed')\n",
    "#     fig2= px.line(data_melt, x=\"Last Update\", y=\"value\", color='variable',title='Death and Recovered')\n",
    "#     fig3= px.line(data_melt2, x=\"Last Update\", y=\"value\", color='variable',title='D/C and R/C')\n",
    "\n",
    "#     fig.show()\n",
    "#     fig2.show()\n",
    "#     fig3.show()"
   ]
  },
  {
   "cell_type": "markdown",
   "metadata": {},
   "source": [
    "## Australia"
   ]
  },
  {
   "cell_type": "code",
   "execution_count": null,
   "metadata": {},
   "outputs": [],
   "source": [
    "# for i in australia_list:\n",
    "#     print(i)\n",
    "#     data = globals()[i.replace(' ','_')].copy()\n",
    "#     data_melt = data.melt(id_vars='Last Update', value_vars=['Death', 'Recovered'])\n",
    "#     data_melt2 = data.melt(id_vars='Last Update', value_vars=['D/C', 'R/C'])\n",
    "    \n",
    "#     fig = px.line(data, x=\"Last Update\", y=\"Confirmed\", title='Confirmed')\n",
    "#     fig2= px.line(data_melt, x=\"Last Update\", y=\"value\", color='variable',title='Death and Recovered')\n",
    "#     fig3= px.line(data_melt2, x=\"Last Update\", y=\"value\", color='variable',title='D/C and R/C')\n",
    "\n",
    "#     fig.show()\n",
    "#     fig2.show()\n",
    "#     fig3.show()"
   ]
  },
  {
   "cell_type": "markdown",
   "metadata": {},
   "source": [
    "## Canada"
   ]
  },
  {
   "cell_type": "code",
   "execution_count": null,
   "metadata": {},
   "outputs": [],
   "source": [
    "# for i in canada_list:\n",
    "#     print(i)\n",
    "#     data = globals()[i.replace(' ','_')].copy()\n",
    "#     data_melt = data.melt(id_vars='Last Update', value_vars=['Death', 'Recovered'])\n",
    "#     data_melt2 = data.melt(id_vars='Last Update', value_vars=['D/C', 'R/C'])\n",
    "    \n",
    "#     fig = px.line(data, x=\"Last Update\", y=\"Confirmed\", title='Confirmed')\n",
    "#     fig2= px.line(data_melt, x=\"Last Update\", y=\"value\", color='variable',title='Death and Recovered')\n",
    "#     fig3= px.line(data_melt2, x=\"Last Update\", y=\"value\", color='variable',title='D/C and R/C')\n",
    "\n",
    "#     fig.show()\n",
    "#     fig2.show()\n",
    "#     fig3.show()"
   ]
  }
 ],
 "metadata": {
  "kernelspec": {
   "display_name": "Python 3",
   "language": "python",
   "name": "python3"
  },
  "language_info": {
   "codemirror_mode": {
    "name": "ipython",
    "version": 3
   },
   "file_extension": ".py",
   "mimetype": "text/x-python",
   "name": "python",
   "nbconvert_exporter": "python",
   "pygments_lexer": "ipython3",
   "version": "3.7.6"
  }
 },
 "nbformat": 4,
 "nbformat_minor": 4
}
