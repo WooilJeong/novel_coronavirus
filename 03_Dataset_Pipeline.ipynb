{
 "cells": [
  {
   "cell_type": "markdown",
   "metadata": {},
   "source": [
    "# 2020-nCoV Global Cases by Wooil Jeong\n",
    "\n",
    "- **Wooil Jeong**  \n",
    "[Dashboard by WooilJeong](https://plot.ly/dashboard/coronavirus:34/present#/)  \n",
    "[Blog](https://wooiljeong.github.io/etc/corona_dash/)  \n",
    "[Github Repository](https://github.com/WooilJeong/novel_coronavirus)  \n",
    "\n",
    "\n",
    "- **Novel Coronavirus (2019-nCoV) Cases, provided by JHU CSSE**  \n",
    "[Dashboard by JHU CSSE](https://gisanddata.maps.arcgis.com/apps/opsdashboard/index.html#/bda7594740fd40299423467b48e9ecf6)  \n",
    "[Old Data Sheets](https://docs.google.com/spreadsheets/d/1yZv9w9zRKwrGTaR-YzmAqMefw4wMlaXocejdxZaTs6w/htmlview?usp=sharing&sle=true#)  \n",
    "[New Google Sheet Link (support comments)](https://docs.google.com/spreadsheets/d/1wQVypefm946ch4XDp37uZ-wartW4V7ILdg-qYiDXUHM/edit?usp=sharing)  \n",
    "[Time series google sheet](https://docs.google.com/spreadsheets/d/1UF2pSkFTURko2OvfHWWlFpDFAr1UxCBA4JLwlSP6KFo/edit?usp=sharing)  \n",
    "[Github Repository](https://github.com/CSSEGISandData/COVID-19)  \n",
    "\n",
    "\n",
    "- **Contact**  \n",
    "email : wooil@kakao.com  "
   ]
  },
  {
   "cell_type": "markdown",
   "metadata": {},
   "source": [
    "## Dataset Pipeline"
   ]
  },
  {
   "cell_type": "code",
   "execution_count": null,
   "metadata": {},
   "outputs": [],
   "source": [
    "import pandas as pd\n",
    "import numpy as np"
   ]
  },
  {
   "cell_type": "code",
   "execution_count": null,
   "metadata": {},
   "outputs": [],
   "source": [
    "url_confirmed = \"https://raw.githubusercontent.com/CSSEGISandData/COVID-19/master/csse_covid_19_data/csse_covid_19_time_series/time_series_19-covid-Confirmed.csv\"\n",
    "url_deaths = \"https://raw.githubusercontent.com/CSSEGISandData/COVID-19/master/csse_covid_19_data/csse_covid_19_time_series/time_series_19-covid-Deaths.csv\"\n",
    "url_recovered = \"https://raw.githubusercontent.com/CSSEGISandData/COVID-19/master/csse_covid_19_data/csse_covid_19_time_series/time_series_19-covid-Recovered.csv\"\n",
    "\n",
    "Confirmed = pd.read_csv(url_confirmed)\n",
    "Deaths = pd.read_csv(url_deaths)\n",
    "Recovered = pd.read_csv(url_recovered)"
   ]
  },
  {
   "cell_type": "markdown",
   "metadata": {},
   "source": [
    "## Reshape Dataset"
   ]
  },
  {
   "cell_type": "code",
   "execution_count": null,
   "metadata": {},
   "outputs": [],
   "source": [
    "id_vars=['Province/State',\n",
    "         'Country/Region',\n",
    "         'Lat',\n",
    "         'Long'\n",
    "         ]\n",
    "\n",
    "df_names=['Confirmed','Deaths','Recovered']\n",
    "for i in df_names:\n",
    "    globals()['df_'+i] = pd.melt(globals()[i],\n",
    "                                 id_vars=id_vars,\n",
    "                                 var_name='Last Update',\n",
    "                                 value_name=i,\n",
    "                                ).sort_values('Last Update', ascending=True)\n",
    "    globals()['df_'+i].index=range(len(globals()['df_'+i]))\n",
    "    \n",
    "df = pd.merge(df_Confirmed, df_Deaths, how='left')\n",
    "df = pd.merge(df, df_Recovered, how='left')\n",
    "# df = df.dropna()"
   ]
  },
  {
   "cell_type": "markdown",
   "metadata": {},
   "source": [
    "## Pre-Processing"
   ]
  },
  {
   "cell_type": "markdown",
   "metadata": {},
   "source": [
    "### Date type"
   ]
  },
  {
   "cell_type": "code",
   "execution_count": null,
   "metadata": {
    "scrolled": true
   },
   "outputs": [],
   "source": [
    "df['Last Update']=pd.to_datetime(df['Last Update'])"
   ]
  },
  {
   "cell_type": "code",
   "execution_count": null,
   "metadata": {},
   "outputs": [],
   "source": [
    "# # Replace spaces with zeros\n",
    "# df.loc[df['Province/State']=='', 'Province/State'] = 'None'\n",
    "# df.loc[df['Confirmed']=='', 'Confirmed'] = 0\n",
    "# df.loc[df['Death']=='', 'Death'] = 0\n",
    "# df.loc[df['Recovered']=='', 'Recovered'] = 0\n",
    "# df.loc[df['Confirmed']=='`', 'Confirmed'] = 0\n",
    "df.loc[df['Province/State'].isna(), 'Province/State'] = 'None'\n",
    "\n",
    "# Data type conversion\n",
    "df['Lat'] = pd.to_numeric(df['Lat'])\n",
    "df['Long'] = pd.to_numeric(df['Long'])\n",
    "df['Confirmed'] = pd.to_numeric(df['Confirmed'])\n",
    "df['Deaths'] = pd.to_numeric(df['Deaths'])\n",
    "df['Recovered'] = pd.to_numeric(df['Recovered'])"
   ]
  },
  {
   "cell_type": "code",
   "execution_count": null,
   "metadata": {},
   "outputs": [],
   "source": [
    "# # Fill Na with Zeros\n",
    "# df = df.fillna(0)\n",
    "\n",
    "# Sort\n",
    "df=df.sort_values('Last Update', ascending=True)"
   ]
  },
  {
   "cell_type": "markdown",
   "metadata": {},
   "source": [
    "## Save Dataset"
   ]
  },
  {
   "cell_type": "code",
   "execution_count": null,
   "metadata": {},
   "outputs": [],
   "source": [
    "import os\n",
    "import datetime\n",
    "\n",
    "if not os.path.exists('Data'):\n",
    "    os.mkdir('Data')\n",
    "    \n",
    "now=datetime.datetime.strftime(datetime.datetime.now(), \"%Y%m%d_%H%M\")\n",
    "save_path = \"Data/Dataset_\"+now+\".csv\"\n",
    "df.to_csv(save_path, index=False, encoding='utf-8')"
   ]
  }
 ],
 "metadata": {
  "kernelspec": {
   "display_name": "Python 3",
   "language": "python",
   "name": "python3"
  },
  "language_info": {
   "codemirror_mode": {
    "name": "ipython",
    "version": 3
   },
   "file_extension": ".py",
   "mimetype": "text/x-python",
   "name": "python",
   "nbconvert_exporter": "python",
   "pygments_lexer": "ipython3",
   "version": "3.7.4"
  }
 },
 "nbformat": 4,
 "nbformat_minor": 4
}
