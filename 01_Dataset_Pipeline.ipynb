{
 "cells": [
  {
   "cell_type": "markdown",
   "metadata": {},
   "source": [
    "# 2020-nCoV Global Cases by Wooil Jeong\n",
    "\n",
    "- **Wooil Jeong**  \n",
    "[Dashboard by WooilJeong](https://plot.ly/dashboard/coronavirus:34/present#/)  \n",
    "[Blog](https://wooiljeong.github.io/etc/corona_dash/)  \n",
    "[Github Repository](https://github.com/WooilJeong/novel_coronavirus)  \n",
    "\n",
    "\n",
    "- **Novel Coronavirus (2019-nCoV) Cases, provided by JHU CSSE**  \n",
    "[Dashboard by JHU CSSE](https://gisanddata.maps.arcgis.com/apps/opsdashboard/index.html#/bda7594740fd40299423467b48e9ecf6)  \n",
    "[Old Data Sheets](https://docs.google.com/spreadsheets/d/1yZv9w9zRKwrGTaR-YzmAqMefw4wMlaXocejdxZaTs6w/htmlview?usp=sharing&sle=true#)  \n",
    "[New Google Sheet Link (support comments)](https://docs.google.com/spreadsheets/d/1wQVypefm946ch4XDp37uZ-wartW4V7ILdg-qYiDXUHM/edit?usp=sharing)  \n",
    "[Time series google sheet](https://docs.google.com/spreadsheets/d/1UF2pSkFTURko2OvfHWWlFpDFAr1UxCBA4JLwlSP6KFo/edit?usp=sharing)  \n",
    "\n",
    "\n",
    "- **Contact**  \n",
    "email : wooil@kakao.com  "
   ]
  },
  {
   "cell_type": "markdown",
   "metadata": {},
   "source": [
    "## Dataset Pipeline"
   ]
  },
  {
   "cell_type": "code",
   "execution_count": 1,
   "metadata": {},
   "outputs": [],
   "source": [
    "import gspread\n",
    "from oauth2client.service_account import ServiceAccountCredentials\n",
    "import numpy as np\n",
    "import pandas as pd\n",
    "import matplotlib.pyplot as plt"
   ]
  },
  {
   "cell_type": "code",
   "execution_count": 2,
   "metadata": {},
   "outputs": [],
   "source": [
    "scope = [\n",
    "'https://spreadsheets.google.com/feeds',\n",
    "'https://www.googleapis.com/auth/drive',\n",
    "]\n",
    "\n",
    "json_file_name = 'gspread-266617-7512230df225.json'\n",
    "credentials = ServiceAccountCredentials.from_json_keyfile_name(json_file_name, scope)\n",
    "\n",
    "gc = gspread.authorize(credentials)\n",
    "spreadsheet_url = 'https://docs.google.com/spreadsheets/d/1UF2pSkFTURko2OvfHWWlFpDFAr1UxCBA4JLwlSP6KFo/htmlview?usp=sharing&sle=true#'\n",
    "doc = gc.open_by_url(spreadsheet_url)"
   ]
  },
  {
   "cell_type": "code",
   "execution_count": 3,
   "metadata": {},
   "outputs": [
    {
     "name": "stdout",
     "output_type": "stream",
     "text": [
      "sheets number : 3\n",
      "['Confirmed', 'Recovered', 'Death']\n"
     ]
    }
   ],
   "source": [
    "sheet_list = doc.worksheets()\n",
    "sheet_nm = []\n",
    "for i in sheet_list:\n",
    "    sheet_nm.append(i.title)\n",
    "\n",
    "print('sheets number :', len(sheet_list))\n",
    "print(sheet_nm)"
   ]
  },
  {
   "cell_type": "code",
   "execution_count": 4,
   "metadata": {},
   "outputs": [
    {
     "name": "stdout",
     "output_type": "stream",
     "text": [
      "Confirmed\n",
      "Recovered\n",
      "Death\n"
     ]
    }
   ],
   "source": [
    "for i in sheet_nm:\n",
    "    print(i)\n",
    "    data = doc.worksheet(i).get_all_values()\n",
    "    globals()[i] = pd.DataFrame(data[1:], columns=data[0])\n",
    "    \n",
    "#     del globals()[i][globals()[i].columns[2]]"
   ]
  },
  {
   "cell_type": "code",
   "execution_count": 5,
   "metadata": {},
   "outputs": [],
   "source": [
    "# Germany\n",
    "Confirmed.loc[Confirmed['Country/Region']=='Germany', 'Province/State'] = ''\n",
    "Death.loc[Death['Country/Region']=='Germany', 'Province/State'] = ''\n",
    "Recovered.loc[Recovered['Country/Region']=='Germany', 'Province/State'] = ''"
   ]
  },
  {
   "cell_type": "markdown",
   "metadata": {},
   "source": [
    "## Reshape Dataset"
   ]
  },
  {
   "cell_type": "code",
   "execution_count": 6,
   "metadata": {},
   "outputs": [],
   "source": [
    "import pandas as pd\n",
    "id_vars=['Province/State',\n",
    "         'Country/Region',\n",
    "         'Lat',\n",
    "         'Long'\n",
    "         ]\n",
    "\n",
    "for i in sheet_nm:\n",
    "    globals()['df_'+i] = pd.melt(globals()[i],\n",
    "                                 id_vars=id_vars,\n",
    "                                 var_name='Last Update',\n",
    "                                 value_name=i,\n",
    "                                ).sort_values('Last Update', ascending=True)\n",
    "    globals()['df_'+i].index=range(len(globals()['df_'+i]))"
   ]
  },
  {
   "cell_type": "markdown",
   "metadata": {},
   "source": [
    "## Pre-Processing"
   ]
  },
  {
   "cell_type": "markdown",
   "metadata": {},
   "source": [
    "### Date type"
   ]
  },
  {
   "cell_type": "code",
   "execution_count": 7,
   "metadata": {},
   "outputs": [],
   "source": [
    "import datetime\n",
    "\n",
    "for j in [df_Confirmed, df_Death, df_Recovered]:\n",
    "    \n",
    "    df = j\n",
    "\n",
    "    date_list=[]\n",
    "    for i in df['Last Update']:\n",
    "\n",
    "        if 'AM' in i:\n",
    "\n",
    "            try:\n",
    "                a=datetime.datetime.strptime(i, \"%m/%d/%Y %I:%M %p\")\n",
    "                b=datetime.datetime.strftime(a, \"%Y-%m-%d %H:%M\")\n",
    "            except:\n",
    "                a=datetime.datetime.strptime(i, \"%m/%d/%y %I:%M %p\")\n",
    "                b=datetime.datetime.strftime(a, \"%Y-%m-%d %H:%M\")\n",
    "\n",
    "\n",
    "        elif 'PM' in i:\n",
    "\n",
    "            try:\n",
    "                a=datetime.datetime.strptime(i, \"%m/%d/%Y %I:%M %p\")\n",
    "                b=datetime.datetime.strftime(a, \"%Y-%m-%d %H:%M\")        \n",
    "            except:\n",
    "                a=datetime.datetime.strptime(i, \"%m/%d/%y %I:%M %p\")\n",
    "                b=datetime.datetime.strftime(a, \"%Y-%m-%d %H:%M\")        \n",
    "\n",
    "\n",
    "        else:\n",
    "\n",
    "            try:\n",
    "                a=datetime.datetime.strptime(i, \"%m/%d/%Y %H:%M\")\n",
    "                b=datetime.datetime.strftime(a, \"%Y-%m-%d %H:%M\")                \n",
    "            except:\n",
    "                a=datetime.datetime.strptime(i, \"%m/%d/%y %H:%M\")\n",
    "                b=datetime.datetime.strftime(a, \"%Y-%m-%d %H:%M\")        \n",
    "\n",
    "\n",
    "        date_list.append(b)\n",
    "\n",
    "    df['Last Update'] = date_list"
   ]
  },
  {
   "cell_type": "code",
   "execution_count": 8,
   "metadata": {},
   "outputs": [],
   "source": [
    "df = pd.merge(df_Confirmed, df_Death, how='left')\n",
    "df = pd.merge(df, df_Recovered, how='left')\n",
    "df = df.dropna()"
   ]
  },
  {
   "cell_type": "code",
   "execution_count": 9,
   "metadata": {},
   "outputs": [
    {
     "data": {
      "text/plain": [
       "Province/State    0\n",
       "Country/Region    0\n",
       "Lat               0\n",
       "Long              0\n",
       "Last Update       0\n",
       "Confirmed         0\n",
       "Death             0\n",
       "Recovered         0\n",
       "dtype: int64"
      ]
     },
     "execution_count": 9,
     "metadata": {},
     "output_type": "execute_result"
    }
   ],
   "source": [
    "df.isna().sum()"
   ]
  },
  {
   "cell_type": "code",
   "execution_count": 10,
   "metadata": {},
   "outputs": [],
   "source": [
    "# Replace spaces with zeros\n",
    "df.loc[df['Province/State']=='', 'Province/State'] = 'None'\n",
    "df.loc[df['Confirmed']=='', 'Confirmed'] = 0\n",
    "df.loc[df['Death']=='', 'Death'] = 0\n",
    "df.loc[df['Recovered']=='', 'Recovered'] = 0\n",
    "\n",
    "df.loc[df['Confirmed']=='`', 'Confirmed'] = 0\n",
    "\n",
    "\n",
    "# df['Province/State'] = df[\"Province/State\"].apply(lambda x: 'None' if x==\"\" else x)\n",
    "# df['Confirmed'] = df[\"Confirmed\"].apply(lambda x: 0 if x==\"\" else x)\n",
    "# df['Death'] = df[\"Death\"].apply(lambda x: 0 if x==\"\" else x)\n",
    "# df['Recovered'] = df[\"Recovered\"].apply(lambda x: 0 if x==\"\" else x)\n",
    "\n",
    "# # ETC\n",
    "# df['Confirmed'] = df[\"Confirmed\"].apply(lambda x: 0 if x==\"`\" else x)\n",
    "\n",
    "# Data type conversion\n",
    "df['Lat'] = pd.to_numeric(df['Lat'])\n",
    "df['Long'] = pd.to_numeric(df['Long'])\n",
    "df['Last Update'] = pd.to_datetime(df['Last Update'])\n",
    "df['Confirmed'] = pd.to_numeric(df['Confirmed'])\n",
    "df['Death'] = pd.to_numeric(df['Death'])\n",
    "df['Recovered'] = pd.to_numeric(df['Recovered'])\n",
    "\n",
    "# Feature Engineering\n",
    "df['D/C'] = (df['Death']/df['Confirmed'])*100\n",
    "df['R/C'] = (df['Recovered']/df['Confirmed'])*100\n",
    "\n",
    "# Fill Na with Zeros\n",
    "df = df.fillna(0)\n",
    "\n",
    "# Sort\n",
    "df=df.sort_values('Last Update', ascending=True)"
   ]
  },
  {
   "cell_type": "markdown",
   "metadata": {},
   "source": [
    "## Save Dataset"
   ]
  },
  {
   "cell_type": "code",
   "execution_count": 11,
   "metadata": {},
   "outputs": [],
   "source": [
    "import os\n",
    "\n",
    "if not os.path.exists('Data'):\n",
    "    os.mkdir('Data')\n",
    "    \n",
    "now=datetime.datetime.strftime(datetime.datetime.now(), \"%Y%m%d_%H%M\")\n",
    "save_path = \"Data/Dataset_\"+now+\".csv\"\n",
    "df.to_csv(save_path, index=False, encoding='utf-8')"
   ]
  }
 ],
 "metadata": {
  "kernelspec": {
   "display_name": "Python 3",
   "language": "python",
   "name": "python3"
  },
  "language_info": {
   "codemirror_mode": {
    "name": "ipython",
    "version": 3
   },
   "file_extension": ".py",
   "mimetype": "text/x-python",
   "name": "python",
   "nbconvert_exporter": "python",
   "pygments_lexer": "ipython3",
   "version": "3.7.6"
  }
 },
 "nbformat": 4,
 "nbformat_minor": 4
}
