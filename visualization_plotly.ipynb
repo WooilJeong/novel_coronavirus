{
 "cells": [
  {
   "cell_type": "markdown",
   "metadata": {},
   "source": [
    "# 신종 코로나바이러스의 지역 별 진행 상황\n",
    "# Regional Progress of the New Coronavirus\n",
    "\n",
    "**Last Update : 2020-01-30 21:30**\n",
    "\n",
    "이 글은 전 세계적으로 퍼지고 있는 신종 코로나 바이러스의 진행 상황을 시각적으로 표현한 자료입니다. 'JHU CSSE'에서 지속적으로 업데이트하고 있는 데이터를 사용하였습니다. 이 분석은 개인적인 연구 목적으로 수행되었으며, 오류가 있을 수 있습니다. 가능한 빨리 모든 국가에서 바이러스가 완전히 사라지기를 진심으로 바랍니다. 감사합니다.\n",
    "\n",
    "This article is a visual representation of the progress of the new coronavirus that is spreading worldwide. I used data that is constantly updated in 'JHU CSSE'. This analysis was conducted for personal research purposes and may be in error. I sincerely hope that the virus will disappear completely in all countries as soon as possible. Thank you.\n",
    "\n",
    "- Data Source  \n",
    "[Dash Board](https://gisanddata.maps.arcgis.com/apps/opsdashboard/index.html#/bda7594740fd40299423467b48e9ecf6)  \n",
    "[Novel Coronavirus (2019-nCoV) Cases, provided by JHU CSSE](https://docs.google.com/spreadsheets/d/1yZv9w9zRKwrGTaR-YzmAqMefw4wMlaXocejdxZaTs6w/htmlview?usp=sharing&sle=true#)\n",
    "\n",
    "\n",
    "- Github Repo  \n",
    "[novel_coronavirus](https://github.com/WooilJeong/novel_coronavirus)"
   ]
  },
  {
   "cell_type": "markdown",
   "metadata": {},
   "source": [
    "## Libraries"
   ]
  },
  {
   "cell_type": "code",
   "execution_count": 1,
   "metadata": {},
   "outputs": [],
   "source": [
    "import os\n",
    "import glob\n",
    "import pandas as pd\n",
    "import numpy as np\n",
    "import matplotlib.pyplot as plt\n",
    "import chart_studio\n",
    "chart_studio.tools.set_credentials_file(username='coronavirus', api_key='')\n",
    "import chart_studio.plotly as py\n",
    "import plotly.express as px\n",
    "\n",
    "# corona project modules\n",
    "from module.plot import corona, total\n",
    "from module.agg import agg"
   ]
  },
  {
   "cell_type": "markdown",
   "metadata": {},
   "source": [
    "## Update Dataset"
   ]
  },
  {
   "cell_type": "code",
   "execution_count": 2,
   "metadata": {},
   "outputs": [
    {
     "name": "stdout",
     "output_type": "stream",
     "text": [
      "The number of recent sheets : 25\n",
      "Complete : Feb01_6pm\n",
      "Complete : Feb01_10am\n",
      "Complete : Jan31_7pm\n",
      "Complete : Jan31_2pm\n",
      "Complete : Jan30_930pm\n",
      "Complete : Jan30_11am\n",
      "Complete : Jan29_9pm\n",
      "Complete : Jan29_230pm\n",
      "Complete : Jan29_130pm\n",
      "Complete : Jan28_11pm\n",
      "Complete : Jan28_6pm\n",
      "Complete : Jan28_1pm\n",
      "Complete : Jan27_830pm\n",
      "Complete : Jan27_7pm\n",
      "Complete : Jan27_9am\n",
      "Complete : Jan26_11pm\n",
      "Complete : Jan26_11am\n",
      "Complete : Jan25_10pm\n",
      "Complete : Jan25_12pm\n",
      "Complete : Jan25_12am\n",
      "Complete : Jan24_12pm\n",
      "Complete : Jan24_12am\n"
     ]
    }
   ],
   "source": [
    "try:\n",
    "    os.unlink('Data/Dataset.csv')\n",
    "except:\n",
    "    pass\n",
    "!python update_dataset.py"
   ]
  },
  {
   "cell_type": "markdown",
   "metadata": {},
   "source": [
    "## Load Dataset"
   ]
  },
  {
   "cell_type": "markdown",
   "metadata": {},
   "source": [
    "### 프로젝트 디렉토리로 설정"
   ]
  },
  {
   "cell_type": "code",
   "execution_count": 3,
   "metadata": {},
   "outputs": [
    {
     "data": {
      "text/plain": [
       "'D:\\\\github\\\\novel_coronavirus'"
      ]
     },
     "execution_count": 3,
     "metadata": {},
     "output_type": "execute_result"
    }
   ],
   "source": [
    "# os.chdir('/Users/wooil/github/novel_coronavirus/')\n",
    "os.getcwd()"
   ]
  },
  {
   "cell_type": "markdown",
   "metadata": {},
   "source": [
    "### 데이터가 저장된 디렉토리 내 파일 목록 조회"
   ]
  },
  {
   "cell_type": "code",
   "execution_count": 4,
   "metadata": {},
   "outputs": [
    {
     "data": {
      "text/plain": [
       "['Data\\\\Dataset.csv']"
      ]
     },
     "execution_count": 4,
     "metadata": {},
     "output_type": "execute_result"
    }
   ],
   "source": [
    "file_list = glob.glob(\"Data/*\")\n",
    "file_list = sorted(file_list, reverse=True)\n",
    "file_list"
   ]
  },
  {
   "cell_type": "markdown",
   "metadata": {},
   "source": [
    "### 최신 데이터 불러오기"
   ]
  },
  {
   "cell_type": "code",
   "execution_count": 5,
   "metadata": {
    "scrolled": true
   },
   "outputs": [],
   "source": [
    "try:\n",
    "    df = pd.read_csv(file_list[0])\n",
    "except:\n",
    "    df = pd.read_csv(file_list[0].replace('\\\\','/')+'.csv')"
   ]
  },
  {
   "cell_type": "markdown",
   "metadata": {},
   "source": [
    "## 전 세계 통합 데이터"
   ]
  },
  {
   "cell_type": "code",
   "execution_count": 6,
   "metadata": {
    "scrolled": true
   },
   "outputs": [
    {
     "data": {
      "text/html": [
       "<div>\n",
       "<style scoped>\n",
       "    .dataframe tbody tr th:only-of-type {\n",
       "        vertical-align: middle;\n",
       "    }\n",
       "\n",
       "    .dataframe tbody tr th {\n",
       "        vertical-align: top;\n",
       "    }\n",
       "\n",
       "    .dataframe thead th {\n",
       "        text-align: right;\n",
       "    }\n",
       "</style>\n",
       "<table border=\"1\" class=\"dataframe\">\n",
       "  <thead>\n",
       "    <tr style=\"text-align: right;\">\n",
       "      <th></th>\n",
       "      <th>Last Update</th>\n",
       "      <th>Confirmed</th>\n",
       "      <th>Deaths</th>\n",
       "      <th>Recovered</th>\n",
       "      <th>D/C</th>\n",
       "      <th>R/C</th>\n",
       "    </tr>\n",
       "  </thead>\n",
       "  <tbody>\n",
       "    <tr>\n",
       "      <th>21</th>\n",
       "      <td>2020-02-01 18:00:00</td>\n",
       "      <td>12037</td>\n",
       "      <td>259</td>\n",
       "      <td>284</td>\n",
       "      <td>2.151699</td>\n",
       "      <td>2.359392</td>\n",
       "    </tr>\n",
       "  </tbody>\n",
       "</table>\n",
       "</div>"
      ],
      "text/plain": [
       "            Last Update  Confirmed  Deaths  Recovered       D/C       R/C\n",
       "21  2020-02-01 18:00:00      12037     259        284  2.151699  2.359392"
      ]
     },
     "execution_count": 6,
     "metadata": {},
     "output_type": "execute_result"
    }
   ],
   "source": [
    "df_all = agg(df)\n",
    "df_all.tail(1)"
   ]
  },
  {
   "cell_type": "markdown",
   "metadata": {},
   "source": [
    "## 전 세계 통합 확진자, 사망자, 회복자 추이"
   ]
  },
  {
   "cell_type": "code",
   "execution_count": 39,
   "metadata": {},
   "outputs": [],
   "source": [
    "data = df_all.copy()\n",
    "data_melt = data.melt(id_vars='Last Update', value_vars=['Deaths', 'Recovered'])\n",
    "\n",
    "fig = px.line(data, x=\"Last Update\", y=\"Confirmed\", template='plotly_dark', title='Total Confirmed', text='Confirmed')\n",
    "fig2= px.line(data_melt, x=\"Last Update\", y=\"value\", color='variable', template='plotly_dark', title='Total Deaths and Recovered', text='value')"
   ]
  },
  {
   "cell_type": "code",
   "execution_count": 40,
   "metadata": {},
   "outputs": [
    {
     "data": {
      "text/html": [
       "\n",
       "        <iframe\n",
       "            width=\"100%\"\n",
       "            height=\"525px\"\n",
       "            src=\"https://plot.ly/~coronavirus/16.embed\"\n",
       "            frameborder=\"0\"\n",
       "            allowfullscreen\n",
       "        ></iframe>\n",
       "        "
      ],
      "text/plain": [
       "<IPython.lib.display.IFrame at 0x22a023aa208>"
      ]
     },
     "execution_count": 40,
     "metadata": {},
     "output_type": "execute_result"
    }
   ],
   "source": [
    "fig.update_traces(textposition='top center')\n",
    "py.iplot(fig, filename='corona_confirmed')"
   ]
  },
  {
   "cell_type": "code",
   "execution_count": 41,
   "metadata": {},
   "outputs": [
    {
     "data": {
      "text/html": [
       "\n",
       "        <iframe\n",
       "            width=\"100%\"\n",
       "            height=\"525px\"\n",
       "            src=\"https://plot.ly/~coronavirus/18.embed\"\n",
       "            frameborder=\"0\"\n",
       "            allowfullscreen\n",
       "        ></iframe>\n",
       "        "
      ],
      "text/plain": [
       "<IPython.lib.display.IFrame at 0x22a03bd6b88>"
      ]
     },
     "execution_count": 41,
     "metadata": {},
     "output_type": "execute_result"
    }
   ],
   "source": [
    "fig2.update_traces(textposition='top center')\n",
    "py.iplot(fig2, filename='corona_deaths_recovered')"
   ]
  },
  {
   "cell_type": "markdown",
   "metadata": {},
   "source": [
    "## 국가 및 지역 별 데이터프레임 생성"
   ]
  },
  {
   "cell_type": "markdown",
   "metadata": {},
   "source": [
    "### 리스트 생성"
   ]
  },
  {
   "cell_type": "code",
   "execution_count": 10,
   "metadata": {},
   "outputs": [],
   "source": [
    "# 모든 국가 리스트\n",
    "country_list = list(set(df['Country/Region']))\n",
    "\n",
    "# 제외할 국가 리스트(제외 국가는 세부 지역 별 리스트 생성하여 분석)\n",
    "except_list = ['Mainland China', 'US', 'Canada', 'Australia']\n",
    "\n",
    "# 세계 국가 리스트 재정의(일부 국가 제외)\n",
    "world_list = country_list.copy()\n",
    "for i in except_list:\n",
    "    world_list.remove(i)\n",
    "\n",
    "# 일부 국가(세부 지역 별 리스트 생성)\n",
    "## 중국 지역 리스트\n",
    "china_list = list(set(df[df['Country/Region']=='Mainland China']['Province/State']))\n",
    "### 후베이 제외 중국 지역 리스트\n",
    "china_list2 = china_list.copy()\n",
    "china_list2.remove('Hubei')\n",
    "\n",
    "## 미국 지역 리스트\n",
    "us_list = list(set(df[df['Country/Region']=='US']['Province/State']))\n",
    "\n",
    "## 캐나다 지역 리스트\n",
    "canada_list = list(set(df[df['Country/Region']=='Canada']['Province/State']))\n",
    "\n",
    "## 호주 지역 리스트\n",
    "australia_list = list(set(df[df['Country/Region']=='Australia']['Province/State']))"
   ]
  },
  {
   "cell_type": "markdown",
   "metadata": {},
   "source": [
    "### 데이터프레임 생성"
   ]
  },
  {
   "cell_type": "code",
   "execution_count": 11,
   "metadata": {
    "scrolled": true
   },
   "outputs": [
    {
     "name": "stdout",
     "output_type": "stream",
     "text": [
      "Ivory_Coast\n",
      "Japan\n",
      "Thailand\n",
      "Hong_Kong\n",
      "Malaysia\n",
      "Singapore\n",
      "UK\n",
      "Macau\n",
      "Vietnam\n",
      "Nepal\n",
      "Italy\n",
      "Philippines\n",
      "Germany\n",
      "Spain\n",
      "Cambodia\n",
      "Mainland_China\n",
      "Australia\n",
      "Finland\n",
      "United_Arab_Emirates\n",
      "US\n",
      "Sweden\n",
      "India\n",
      "Russia\n",
      "Taiwan\n",
      "Canada\n",
      "South_Korea\n",
      "France\n",
      "Sri_Lanka\n",
      "Arizona\n",
      "Tempe,_AZ\n",
      "Orange,_CA\n",
      "Chicago,_IL\n",
      "Illinois\n",
      "Santa_Clara,_CA\n",
      "Boston,_MA\n",
      "California\n",
      "Chicago\n",
      "Los_Angeles,_CA\n",
      "Seattle,_WA\n",
      "Washington\n",
      "Victoria\n",
      "Queensland\n",
      "South_Australia\n",
      "New_South_Wales\n",
      "None\n",
      "Ontario\n",
      "British_Columbia\n"
     ]
    }
   ],
   "source": [
    "for i in country_list:\n",
    "    globals()[i.replace(' ','_')] = df[df['Country/Region']==i]\n",
    "    globals()[i.replace(' ','_')] = globals()[i.replace(' ','_')].sort_values('Last Update', ascending=True)\n",
    "    globals()[i.replace(' ','_')].index = range(len(globals()[i.replace(' ','_')]))    \n",
    "    print(i.replace(' ','_'))\n",
    "     \n",
    "for i in china_list:\n",
    "    globals()[i.replace(' ','_')] = Mainland_China[Mainland_China['Province/State']==i]\n",
    "    globals()[i.replace(' ','_')] = globals()[i.replace(' ','_')].sort_values('Last Update', ascending=True)\n",
    "    globals()[i.replace(' ','_')].index = range(len(globals()[i.replace(' ','_')]))\n",
    "    \n",
    "for i in us_list:\n",
    "    globals()[i.replace(' ','_')] = US[US['Province/State']==i]\n",
    "    globals()[i.replace(' ','_')] = globals()[i.replace(' ','_')].sort_values('Last Update', ascending=True)\n",
    "    globals()[i.replace(' ','_')].index = range(len(globals()[i.replace(' ','_')]))    \n",
    "    print(i.replace(' ','_'))\n",
    "    \n",
    "for i in australia_list:\n",
    "    globals()[i.replace(' ','_')] = Australia[Australia['Province/State']==i]\n",
    "    globals()[i.replace(' ','_')] = globals()[i.replace(' ','_')].sort_values('Last Update', ascending=True)\n",
    "    globals()[i.replace(' ','_')].index = range(len(globals()[i.replace(' ','_')]))    \n",
    "    print(i.replace(' ','_'))\n",
    "    \n",
    "for i in canada_list:\n",
    "    globals()[i.replace(' ','_')] = Canada[Canada['Province/State']==i]\n",
    "    globals()[i.replace(' ','_')] = globals()[i.replace(' ','_')].sort_values('Last Update', ascending=True)\n",
    "    globals()[i.replace(' ','_')].index = range(len(globals()[i.replace(' ','_')]))    \n",
    "    print(i.replace(' ','_'))"
   ]
  },
  {
   "cell_type": "code",
   "execution_count": 42,
   "metadata": {},
   "outputs": [
    {
     "data": {
      "text/html": [
       "\n",
       "        <iframe\n",
       "            width=\"100%\"\n",
       "            height=\"525px\"\n",
       "            src=\"https://plot.ly/~coronavirus/7.embed\"\n",
       "            frameborder=\"0\"\n",
       "            allowfullscreen\n",
       "        ></iframe>\n",
       "        "
      ],
      "text/plain": [
       "<IPython.lib.display.IFrame at 0x22a01dddac8>"
      ]
     },
     "execution_count": 42,
     "metadata": {},
     "output_type": "execute_result"
    }
   ],
   "source": [
    "fig = px.scatter(Mainland_China, \n",
    "               x=\"Recovered\", \n",
    "               y=\"Deaths\",\n",
    "               title='Chinese New Coronavirus Chart',\n",
    "               template='plotly_dark', \n",
    "               log_x= False, \n",
    "               color='Province/State', \n",
    "               animation_frame= \"Last Update\",\n",
    "               animation_group =\"Province/State\",\n",
    "               hover_name='Province/State', \n",
    "               range_x = [-20,200], \n",
    "               range_y = [-50,400],\n",
    "               size='Confirmed',\n",
    "               size_max=100,\n",
    "               labels = dict(Deaths='Deaths',\n",
    "                             Recovered = 'Recovered'))\n",
    "py.iplot(fig, filename='corona')"
   ]
  },
  {
   "cell_type": "markdown",
   "metadata": {},
   "source": [
    "## World"
   ]
  },
  {
   "cell_type": "code",
   "execution_count": 13,
   "metadata": {
    "scrolled": true
   },
   "outputs": [],
   "source": [
    "# for i in world_list:\n",
    "#     print(i)\n",
    "#     data = globals()[i.replace(' ','_')].copy()\n",
    "#     data_melt = data.melt(id_vars='Last Update', value_vars=['Deaths', 'Recovered'])\n",
    "#     data_melt2 = data.melt(id_vars='Last Update', value_vars=['D/C', 'R/C'])\n",
    "    \n",
    "#     fig = px.line(data, x=\"Last Update\", y=\"Confirmed\", title='Confirmed')\n",
    "#     fig2= px.line(data_melt, x=\"Last Update\", y=\"value\", color='variable',title='Deaths and Recovered')\n",
    "#     fig3= px.line(data_melt2, x=\"Last Update\", y=\"value\", color='variable',title='D/C and R/C')\n",
    "\n",
    "#     fig.show()\n",
    "#     fig2.show()\n",
    "#     fig3.show()"
   ]
  },
  {
   "cell_type": "markdown",
   "metadata": {},
   "source": [
    "## Mainland China"
   ]
  },
  {
   "cell_type": "code",
   "execution_count": 14,
   "metadata": {},
   "outputs": [],
   "source": [
    "# for i in china_list:\n",
    "#     print(i)\n",
    "#     data = globals()[i.replace(' ','_')].copy()\n",
    "#     data_melt = data.melt(id_vars='Last Update', value_vars=['Deaths', 'Recovered'])\n",
    "#     data_melt2 = data.melt(id_vars='Last Update', value_vars=['D/C', 'R/C'])\n",
    "    \n",
    "#     fig = px.line(data, x=\"Last Update\", y=\"Confirmed\", title='Confirmed')\n",
    "#     fig2= px.line(data_melt, x=\"Last Update\", y=\"value\", color='variable',title='Deaths and Recovered')\n",
    "#     fig3= px.line(data_melt2, x=\"Last Update\", y=\"value\", color='variable',title='D/C and R/C')\n",
    "\n",
    "#     fig.show()\n",
    "#     fig2.show()\n",
    "#     fig3.show()"
   ]
  },
  {
   "cell_type": "markdown",
   "metadata": {},
   "source": [
    "## US"
   ]
  },
  {
   "cell_type": "code",
   "execution_count": 15,
   "metadata": {},
   "outputs": [],
   "source": [
    "# for i in us_list:\n",
    "#     print(i)\n",
    "#     data = globals()[i.replace(' ','_')].copy()\n",
    "#     data_melt = data.melt(id_vars='Last Update', value_vars=['Deaths', 'Recovered'])\n",
    "#     data_melt2 = data.melt(id_vars='Last Update', value_vars=['D/C', 'R/C'])\n",
    "    \n",
    "#     fig = px.line(data, x=\"Last Update\", y=\"Confirmed\", title='Confirmed')\n",
    "#     fig2= px.line(data_melt, x=\"Last Update\", y=\"value\", color='variable',title='Deaths and Recovered')\n",
    "#     fig3= px.line(data_melt2, x=\"Last Update\", y=\"value\", color='variable',title='D/C and R/C')\n",
    "\n",
    "#     fig.show()\n",
    "#     fig2.show()\n",
    "#     fig3.show()"
   ]
  },
  {
   "cell_type": "markdown",
   "metadata": {},
   "source": [
    "## Australia"
   ]
  },
  {
   "cell_type": "code",
   "execution_count": 16,
   "metadata": {},
   "outputs": [],
   "source": [
    "# for i in australia_list:\n",
    "#     print(i)\n",
    "#     data = globals()[i.replace(' ','_')].copy()\n",
    "#     data_melt = data.melt(id_vars='Last Update', value_vars=['Deaths', 'Recovered'])\n",
    "#     data_melt2 = data.melt(id_vars='Last Update', value_vars=['D/C', 'R/C'])\n",
    "    \n",
    "#     fig = px.line(data, x=\"Last Update\", y=\"Confirmed\", title='Confirmed')\n",
    "#     fig2= px.line(data_melt, x=\"Last Update\", y=\"value\", color='variable',title='Deaths and Recovered')\n",
    "#     fig3= px.line(data_melt2, x=\"Last Update\", y=\"value\", color='variable',title='D/C and R/C')\n",
    "\n",
    "#     fig.show()\n",
    "#     fig2.show()\n",
    "#     fig3.show()"
   ]
  },
  {
   "cell_type": "markdown",
   "metadata": {},
   "source": [
    "## Canada"
   ]
  },
  {
   "cell_type": "code",
   "execution_count": 17,
   "metadata": {},
   "outputs": [],
   "source": [
    "# for i in canada_list:\n",
    "#     print(i)\n",
    "#     data = globals()[i.replace(' ','_')].copy()\n",
    "#     data_melt = data.melt(id_vars='Last Update', value_vars=['Deaths', 'Recovered'])\n",
    "#     data_melt2 = data.melt(id_vars='Last Update', value_vars=['D/C', 'R/C'])\n",
    "    \n",
    "#     fig = px.line(data, x=\"Last Update\", y=\"Confirmed\", title='Confirmed')\n",
    "#     fig2= px.line(data_melt, x=\"Last Update\", y=\"value\", color='variable',title='Deaths and Recovered')\n",
    "#     fig3= px.line(data_melt2, x=\"Last Update\", y=\"value\", color='variable',title='D/C and R/C')\n",
    "\n",
    "#     fig.show()\n",
    "#     fig2.show()\n",
    "#     fig3.show()"
   ]
  },
  {
   "cell_type": "markdown",
   "metadata": {},
   "source": [
    "## 전 세계 비교 그래프"
   ]
  },
  {
   "cell_type": "code",
   "execution_count": 18,
   "metadata": {},
   "outputs": [],
   "source": [
    "# time_list = list(set(df['Last Update']))\n",
    "# time_list = pd.DataFrame(time_list, columns=['Last Update']).sort_values('Last Update')\n",
    "# time_list.index = range(len(time_list))\n",
    "\n",
    "# total_list=world_list+china_list+us_list+australia_list+canada_list\n",
    "\n",
    "# for i in total_list:\n",
    "#     i=i.replace(' ','_')\n",
    "#     time_list=pd.merge(time_list, globals()[i][['Last Update', 'Confirmed']], how='left', on='Last Update')\n",
    "# time_list.columns=['Last Update']+total_list\n",
    "# time_list=time_list.fillna(0)\n",
    "\n",
    "# df_world = time_list[['Last Update']+world_list]\n",
    "# df_china = time_list[['Last Update']+china_list]\n",
    "# df_china2 = time_list[['Last Update']+china_list2]\n",
    "# df_us = time_list[['Last Update']+us_list]\n",
    "# df_australia = time_list[['Last Update']+australia_list]\n",
    "# df_canada = time_list[['Last Update']+canada_list]"
   ]
  },
  {
   "cell_type": "markdown",
   "metadata": {},
   "source": [
    "## 전 세계"
   ]
  },
  {
   "cell_type": "code",
   "execution_count": 19,
   "metadata": {
    "scrolled": true
   },
   "outputs": [],
   "source": [
    "# data = df_world.copy()\n",
    "# data_melt=data.melt(id_vars='Last Update', value_vars=world_list)\n",
    "# fig=px.line(data_melt, x='Last Update', y='value', color='variable', title='world')\n",
    "# fig.show()"
   ]
  },
  {
   "cell_type": "markdown",
   "metadata": {},
   "source": [
    "## 중국"
   ]
  },
  {
   "cell_type": "code",
   "execution_count": 20,
   "metadata": {},
   "outputs": [],
   "source": [
    "# data = df_china.copy()\n",
    "# data_melt=data.melt(id_vars='Last Update', value_vars=china_list)\n",
    "# fig=px.line(data_melt, x='Last Update', y='value', color='variable', title='china')\n",
    "# fig.show()"
   ]
  },
  {
   "cell_type": "markdown",
   "metadata": {},
   "source": [
    "## 중국(후베이 제외)"
   ]
  },
  {
   "cell_type": "code",
   "execution_count": 21,
   "metadata": {},
   "outputs": [],
   "source": [
    "# data = df_china2.copy()\n",
    "# data_melt=data.melt(id_vars='Last Update', value_vars=china_list2)\n",
    "# fig=px.line(data_melt, x='Last Update', y='value', color='variable', title='china without hubei')\n",
    "# fig.show()"
   ]
  },
  {
   "cell_type": "markdown",
   "metadata": {},
   "source": [
    "## 미국"
   ]
  },
  {
   "cell_type": "code",
   "execution_count": 22,
   "metadata": {},
   "outputs": [],
   "source": [
    "# data = df_us.copy()\n",
    "# data_melt=data.melt(id_vars='Last Update', value_vars=us_list)\n",
    "# fig=px.line(data_melt, x='Last Update', y='value', color='variable', title='us')\n",
    "# fig.show()"
   ]
  },
  {
   "cell_type": "markdown",
   "metadata": {},
   "source": [
    "## 호주"
   ]
  },
  {
   "cell_type": "code",
   "execution_count": 23,
   "metadata": {},
   "outputs": [],
   "source": [
    "# data = df_australia.copy()\n",
    "# data_melt=data.melt(id_vars='Last Update', value_vars=australia_list)\n",
    "# fig=px.line(data_melt, x='Last Update', y='value', color='variable', title='australia')\n",
    "# fig.show()"
   ]
  },
  {
   "cell_type": "markdown",
   "metadata": {},
   "source": [
    "## 캐나다"
   ]
  },
  {
   "cell_type": "code",
   "execution_count": 24,
   "metadata": {},
   "outputs": [],
   "source": [
    "# data = df_canada.copy()\n",
    "# data_melt=data.melt(id_vars='Last Update', value_vars=canada_list)\n",
    "# fig=px.line(data_melt, x='Last Update', y='value', color='variable', title='canada')\n",
    "# fig.show()"
   ]
  }
 ],
 "metadata": {
  "kernelspec": {
   "display_name": "Python 3",
   "language": "python",
   "name": "python3"
  },
  "language_info": {
   "codemirror_mode": {
    "name": "ipython",
    "version": 3
   },
   "file_extension": ".py",
   "mimetype": "text/x-python",
   "name": "python",
   "nbconvert_exporter": "python",
   "pygments_lexer": "ipython3",
   "version": "3.7.6"
  }
 },
 "nbformat": 4,
 "nbformat_minor": 4
}
