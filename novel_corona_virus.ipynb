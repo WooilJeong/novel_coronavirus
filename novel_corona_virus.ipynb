{
 "cells": [
  {
   "cell_type": "markdown",
   "metadata": {},
   "source": [
    "# Analysis of the Novel Corona Virus"
   ]
  },
  {
   "cell_type": "code",
   "execution_count": 1,
   "metadata": {},
   "outputs": [],
   "source": [
    "import gspread\n",
    "from oauth2client.service_account import ServiceAccountCredentials\n",
    "\n",
    "scope = [\n",
    "'https://spreadsheets.google.com/feeds',\n",
    "'https://www.googleapis.com/auth/drive',\n",
    "]\n",
    "\n",
    "json_file_name = 'gspread-266617-f39ee6d19800.json'\n",
    "credentials = ServiceAccountCredentials.from_json_keyfile_name(json_file_name, scope)\n",
    "\n",
    "gc = gspread.authorize(credentials)\n",
    "spreadsheet_url = 'https://docs.google.com/spreadsheets/d/1yZv9w9zRKwrGTaR-YzmAqMefw4wMlaXocejdxZaTs6w/htmlview?usp=sharing&sle=true#'"
   ]
  },
  {
   "cell_type": "code",
   "execution_count": 2,
   "metadata": {},
   "outputs": [],
   "source": [
    "doc = gc.open_by_url(spreadsheet_url)"
   ]
  },
  {
   "cell_type": "code",
   "execution_count": 3,
   "metadata": {},
   "outputs": [
    {
     "name": "stdout",
     "output_type": "stream",
     "text": [
      "sheets number : 16\n"
     ]
    },
    {
     "data": {
      "text/plain": [
       "['Jan28_11pm',\n",
       " 'Jan28_6pm',\n",
       " 'Jan28_1pm',\n",
       " 'Jan27_830pm',\n",
       " 'Jan27_7pm',\n",
       " 'Jan27_9am',\n",
       " 'Jan26_11pm',\n",
       " 'Jan26_11am',\n",
       " 'Jan25_10pm',\n",
       " 'Jan25_12pm',\n",
       " 'Jan25_12am',\n",
       " 'Jan24_12pm',\n",
       " 'Jan24_12am',\n",
       " 'Jan23_12pm',\n",
       " 'Jan22_12pm',\n",
       " 'Jan22_12am']"
      ]
     },
     "execution_count": 3,
     "metadata": {},
     "output_type": "execute_result"
    }
   ],
   "source": [
    "sheet_list = doc.worksheets()\n",
    "sheet_nm = []\n",
    "for i in sheet_list:\n",
    "    sheet_nm.append(i.title)\n",
    "print('sheets number :', len(sheet_list))\n",
    "sheet_nm"
   ]
  },
  {
   "cell_type": "code",
   "execution_count": 30,
   "metadata": {},
   "outputs": [
    {
     "name": "stdout",
     "output_type": "stream",
     "text": [
      "Jan28_11pm\n",
      "Jan28_6pm\n",
      "Jan28_1pm\n",
      "Jan27_830pm\n",
      "Jan27_7pm\n",
      "Jan27_9am\n",
      "Jan26_11pm\n",
      "Jan26_11am\n",
      "Jan25_10pm\n",
      "Jan25_12pm\n",
      "Jan25_12am\n",
      "Jan24_12pm\n",
      "Jan24_12am\n",
      "Jan23_12pm\n",
      "Jan22_12pm\n",
      "Jan22_12am\n"
     ]
    }
   ],
   "source": [
    "import pandas as pd\n",
    "\n",
    "df_list = []\n",
    "for i in sheet_nm:\n",
    "    \n",
    "    print(i)\n",
    "    \n",
    "    data = doc.worksheet(i).get_all_values()\n",
    "    globals()[i] = pd.DataFrame(data[1:], columns=data[0])\n",
    "    \n",
    "    df_list.append(globals()[i])"
   ]
  },
  {
   "cell_type": "markdown",
   "metadata": {},
   "source": [
    "## 1/24 12am ~ "
   ]
  },
  {
   "cell_type": "code",
   "execution_count": 36,
   "metadata": {},
   "outputs": [
    {
     "data": {
      "text/plain": [
       "['Jan28_11pm',\n",
       " 'Jan28_6pm',\n",
       " 'Jan28_1pm',\n",
       " 'Jan27_830pm',\n",
       " 'Jan27_7pm',\n",
       " 'Jan27_9am',\n",
       " 'Jan26_11pm',\n",
       " 'Jan26_11am',\n",
       " 'Jan25_10pm',\n",
       " 'Jan25_12pm',\n",
       " 'Jan25_12am',\n",
       " 'Jan24_12pm']"
      ]
     },
     "execution_count": 36,
     "metadata": {},
     "output_type": "execute_result"
    }
   ],
   "source": [
    "rm_items = ['Jan22_12am','Jan22_12pm','Jan23_12pm','Jan24_12am']\n",
    "for i in rm_items:\n",
    "    sheet_nm.remove(i)\n",
    "sheet_nm"
   ]
  },
  {
   "cell_type": "code",
   "execution_count": 37,
   "metadata": {},
   "outputs": [],
   "source": [
    "col_list=[\n",
    "            'Province/State',\n",
    "            'Country/Region',\n",
    "            'Last Update',\n",
    "            'Confirmed',\n",
    "            'Deaths',\n",
    "            'Recovered'\n",
    "         ]"
   ]
  },
  {
   "cell_type": "code",
   "execution_count": 42,
   "metadata": {},
   "outputs": [
    {
     "name": "stdout",
     "output_type": "stream",
     "text": [
      "Complete : Jan28_11pm\n",
      "Complete : Jan28_6pm\n",
      "Complete : Jan28_1pm\n",
      "Complete : Jan27_830pm\n",
      "Complete : Jan27_7pm\n",
      "Complete : Jan27_9am\n",
      "Complete : Jan26_11pm\n",
      "Complete : Jan26_11am\n",
      "Complete : Jan25_10pm\n",
      "Complete : Jan25_12pm\n",
      "Complete : Jan25_12am\n",
      "Complete : Jan24_12pm\n"
     ]
    }
   ],
   "source": [
    "df = pd.DataFrame()\n",
    "for i in sheet_nm:\n",
    "    \n",
    "    try:\n",
    "        print('Complete :', i)\n",
    "        globals()[i] = globals()[i][col_list]\n",
    "        df = pd.concat([df, globals()[i]])\n",
    "        \n",
    "    except:\n",
    "        print('Failed :', i)\n",
    "    \n",
    "df.index = range(len(df))"
   ]
  },
  {
   "cell_type": "code",
   "execution_count": null,
   "metadata": {},
   "outputs": [],
   "source": []
  }
 ],
 "metadata": {
  "kernelspec": {
   "display_name": "Python 3",
   "language": "python",
   "name": "python3"
  },
  "language_info": {
   "codemirror_mode": {
    "name": "ipython",
    "version": 3
   },
   "file_extension": ".py",
   "mimetype": "text/x-python",
   "name": "python",
   "nbconvert_exporter": "python",
   "pygments_lexer": "ipython3",
   "version": "3.7.6"
  }
 },
 "nbformat": 4,
 "nbformat_minor": 4
}
